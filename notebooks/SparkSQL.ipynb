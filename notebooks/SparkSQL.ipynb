{
 "cells": [
  {
   "cell_type": "code",
   "execution_count": null,
   "id": "88e8da3c-5464-4c43-aa6d-80b069deb801",
   "metadata": {},
   "outputs": [],
   "source": [
    "from pyspark import SparkConf\n",
    "from pyspark.sql import SparkSession\n",
    "import os\n",
    "from pyspark.sql.functions import count,col,when, collect_list,concat_ws,lit,monotonically_increasing_id,first\n",
    "from pyspark.sql.dataframe import *\n",
    "from pyspark.sql.types import TimestampType, StringType\n",
    "from pyspark.sql import SparkSession, functions as F"
   ]
  },
  {
   "cell_type": "code",
   "execution_count": null,
   "id": "395aaba3-e262-4e29-8285-ee9d04be99db",
   "metadata": {},
   "outputs": [],
   "source": [
    "from pyspark.sql import SparkSession\n",
    "from pyspark import SparkConf\n",
    "import os\n",
    "\n",
    "# Credentials MinIO\n",
    "os.environ[\"AWS_ACCESS_KEY_ID\"] = \"minio\"\n",
    "os.environ[\"AWS_SECRET_ACCESS_KEY\"] = \"minio123\"\n",
    "os.environ[\"AWS_REGION\"] = \"eu-west-1\"\n",
    "\n",
    "conf = (\n",
    "    SparkConf()\n",
    "    .set(\"spark.sql.extensions\", \"org.apache.iceberg.spark.extensions.IcebergSparkSessionExtensions\")\n",
    "    .set(\"spark.sql.catalog.warehouse\", \"org.apache.iceberg.spark.SparkCatalog\")\n",
    "    .set(\"spark.sql.catalog.warehouse.type\", \"rest\")\n",
    "    .set(\"spark.sql.catalog.warehouse.uri\", \"http://rest:8181/\")  # nom du service REST\n",
    "    .set(\"spark.sql.catalog.warehouse.io-impl\", \"org.apache.iceberg.aws.s3.S3FileIO\")\n",
    "    .set(\"spark.sql.catalog.warehouse.s3.endpoint\", \"http://minio:9000\")  # nom du service MinIO\n",
    "    .set(\"spark.sql.catalog.warehouse.warehouse\", \"s3://iceberg-lakehouse/wh\")  # bucket déjà créé\n",
    "    .set(\"spark.hadoop.fs.s3a.path.style.access\", \"true\")  # nécessaire pour MinIO\n",
    "   \n",
    ")\n",
    "\n",
    "spark = SparkSession.builder.config(conf=conf).appName(\"IcebergNotebook\").getOrCreate()\n",
    "spark.sparkContext.setLogLevel(\"DEBUG\")"
   ]
  },
  {
   "cell_type": "code",
   "execution_count": null,
   "id": "d59f3b91",
   "metadata": {},
   "outputs": [],
   "source": [
    "from pyspark.sql.types import DoubleType, FloatType, LongType, StructType,StructField, StringType\n",
    "schema = StructType([\n",
    "  StructField(\"vendor_id\", LongType(), True),\n",
    "  StructField(\"trip_id\", LongType(), True),\n",
    "  StructField(\"trip_distance\", FloatType(), True),\n",
    "  StructField(\"fare_amount\", DoubleType(), True),\n",
    "  StructField(\"store_and_fwd_flag\", StringType(), True)\n",
    "])\n",
    "\n",
    "df = spark.createDataFrame([], schema)\n",
    "df.writeTo(\"warehouse.nyc.taxis\").createOrReplace()"
   ]
  },
  {
   "cell_type": "code",
   "execution_count": null,
   "id": "32cb2742",
   "metadata": {},
   "outputs": [],
   "source": [
    "schema = spark.table(\"warehouse.nyc.taxis\").schema\n",
    "data = [\n",
    "    (1, 1000371, 1.8, 15.32, \"N\"),\n",
    "    (2, 1000372, 2.5, 22.15, \"N\"),\n",
    "    (2, 1000373, 0.9, 9.01, \"N\"),\n",
    "    (1, 1000374, 8.4, 42.13, \"Y\")\n",
    "  ]\n",
    "df = spark.createDataFrame(data, schema)\n",
    "df.writeTo(\"warehouse.nyc.taxis\").append()"
   ]
  },
  {
   "cell_type": "code",
   "execution_count": null,
   "id": "c9514498",
   "metadata": {},
   "outputs": [],
   "source": [
    "df = spark.table(\"warehouse.nyc.taxis\").show()"
   ]
  },
  {
   "cell_type": "code",
   "execution_count": null,
   "id": "186f9d01",
   "metadata": {},
   "outputs": [],
   "source": [
    "spark.sql(\"SHOW TBLPROPERTIES warehouse.nyc.taxis;\").show()\n"
   ]
  }
 ],
 "metadata": {
  "kernelspec": {
   "display_name": "Python 3 (ipykernel)",
   "language": "python",
   "name": "python3"
  },
  "language_info": {
   "codemirror_mode": {
    "name": "ipython",
    "version": 3
   },
   "file_extension": ".py",
   "mimetype": "text/x-python",
   "name": "python",
   "nbconvert_exporter": "python",
   "pygments_lexer": "ipython3",
   "version": "3.11.4"
  }
 },
 "nbformat": 4,
 "nbformat_minor": 5
}
